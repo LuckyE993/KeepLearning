{
 "cells": [
  {
   "cell_type": "markdown",
   "id": "98010818",
   "metadata": {},
   "source": [
    "安装tensorboard"
   ]
  },
  {
   "cell_type": "code",
   "execution_count": 1,
   "id": "9fe1eb42",
   "metadata": {},
   "outputs": [
    {
     "name": "stdout",
     "output_type": "stream",
     "text": [
      "Requirement already satisfied: tensorboard in c:\\users\\luckye\\.conda\\envs\\pytorch\\lib\\site-packages (2.14.0)\n",
      "Requirement already satisfied: absl-py>=0.4 in c:\\users\\luckye\\.conda\\envs\\pytorch\\lib\\site-packages (from tensorboard) (2.1.0)\n",
      "Requirement already satisfied: grpcio>=1.48.2 in c:\\users\\luckye\\.conda\\envs\\pytorch\\lib\\site-packages (from tensorboard) (1.64.0)\n",
      "Requirement already satisfied: google-auth<3,>=1.6.3 in c:\\users\\luckye\\.conda\\envs\\pytorch\\lib\\site-packages (from tensorboard) (2.29.0)\n",
      "Requirement already satisfied: google-auth-oauthlib<1.1,>=0.5 in c:\\users\\luckye\\.conda\\envs\\pytorch\\lib\\site-packages (from tensorboard) (1.0.0)\n",
      "Requirement already satisfied: markdown>=2.6.8 in c:\\users\\luckye\\.conda\\envs\\pytorch\\lib\\site-packages (from tensorboard) (3.6)\n",
      "Requirement already satisfied: numpy>=1.12.0 in c:\\users\\luckye\\.conda\\envs\\pytorch\\lib\\site-packages (from tensorboard) (1.24.1)\n",
      "Requirement already satisfied: protobuf>=3.19.6 in c:\\users\\luckye\\.conda\\envs\\pytorch\\lib\\site-packages (from tensorboard) (5.26.1)\n",
      "Requirement already satisfied: requests<3,>=2.21.0 in c:\\users\\luckye\\.conda\\envs\\pytorch\\lib\\site-packages (from tensorboard) (2.32.1)\n",
      "Requirement already satisfied: setuptools>=41.0.0 in c:\\users\\luckye\\.conda\\envs\\pytorch\\lib\\site-packages (from tensorboard) (69.5.1)\n",
      "Requirement already satisfied: tensorboard-data-server<0.8.0,>=0.7.0 in c:\\users\\luckye\\.conda\\envs\\pytorch\\lib\\site-packages (from tensorboard) (0.7.2)\n",
      "Requirement already satisfied: werkzeug>=1.0.1 in c:\\users\\luckye\\.conda\\envs\\pytorch\\lib\\site-packages (from tensorboard) (3.0.3)\n",
      "Requirement already satisfied: wheel>=0.26 in c:\\users\\luckye\\.conda\\envs\\pytorch\\lib\\site-packages (from tensorboard) (0.43.0)\n",
      "Requirement already satisfied: cachetools<6.0,>=2.0.0 in c:\\users\\luckye\\.conda\\envs\\pytorch\\lib\\site-packages (from google-auth<3,>=1.6.3->tensorboard) (5.3.3)\n",
      "Requirement already satisfied: pyasn1-modules>=0.2.1 in c:\\users\\luckye\\.conda\\envs\\pytorch\\lib\\site-packages (from google-auth<3,>=1.6.3->tensorboard) (0.4.0)\n",
      "Requirement already satisfied: rsa<5,>=3.1.4 in c:\\users\\luckye\\.conda\\envs\\pytorch\\lib\\site-packages (from google-auth<3,>=1.6.3->tensorboard) (4.9)\n",
      "Requirement already satisfied: requests-oauthlib>=0.7.0 in c:\\users\\luckye\\.conda\\envs\\pytorch\\lib\\site-packages (from google-auth-oauthlib<1.1,>=0.5->tensorboard) (2.0.0)\n",
      "Requirement already satisfied: importlib-metadata>=4.4 in c:\\users\\luckye\\.conda\\envs\\pytorch\\lib\\site-packages (from markdown>=2.6.8->tensorboard) (7.0.1)\n",
      "Requirement already satisfied: charset-normalizer<4,>=2 in c:\\users\\luckye\\.conda\\envs\\pytorch\\lib\\site-packages (from requests<3,>=2.21.0->tensorboard) (3.3.2)\n",
      "Requirement already satisfied: idna<4,>=2.5 in c:\\users\\luckye\\.conda\\envs\\pytorch\\lib\\site-packages (from requests<3,>=2.21.0->tensorboard) (3.7)\n",
      "Requirement already satisfied: urllib3<3,>=1.21.1 in c:\\users\\luckye\\.conda\\envs\\pytorch\\lib\\site-packages (from requests<3,>=2.21.0->tensorboard) (2.2.1)\n",
      "Requirement already satisfied: certifi>=2017.4.17 in c:\\users\\luckye\\.conda\\envs\\pytorch\\lib\\site-packages (from requests<3,>=2.21.0->tensorboard) (2024.2.2)\n",
      "Requirement already satisfied: MarkupSafe>=2.1.1 in c:\\users\\luckye\\.conda\\envs\\pytorch\\lib\\site-packages (from werkzeug>=1.0.1->tensorboard) (2.1.3)\n",
      "Requirement already satisfied: zipp>=0.5 in c:\\users\\luckye\\.conda\\envs\\pytorch\\lib\\site-packages (from importlib-metadata>=4.4->markdown>=2.6.8->tensorboard) (3.17.0)\n",
      "Requirement already satisfied: pyasn1<0.7.0,>=0.4.6 in c:\\users\\luckye\\.conda\\envs\\pytorch\\lib\\site-packages (from pyasn1-modules>=0.2.1->google-auth<3,>=1.6.3->tensorboard) (0.6.0)\n",
      "Requirement already satisfied: oauthlib>=3.0.0 in c:\\users\\luckye\\.conda\\envs\\pytorch\\lib\\site-packages (from requests-oauthlib>=0.7.0->google-auth-oauthlib<1.1,>=0.5->tensorboard) (3.2.2)\n"
     ]
    }
   ],
   "source": [
    "!pip install tensorboard"
   ]
  },
  {
   "cell_type": "markdown",
   "id": "c6a59e7a",
   "metadata": {},
   "source": [
    "导入SummaryWriter包"
   ]
  },
  {
   "cell_type": "code",
   "execution_count": 1,
   "id": "28a6d021",
   "metadata": {},
   "outputs": [],
   "source": [
    "from torch.utils.tensorboard import SummaryWriter\n",
    "import os"
   ]
  },
  {
   "cell_type": "markdown",
   "id": "d80f03be",
   "metadata": {},
   "source": [
    "初始化一个SummaryWriter对象，其中参数为生成的目录名"
   ]
  },
  {
   "cell_type": "code",
   "execution_count": 2,
   "id": "f5a11165",
   "metadata": {},
   "outputs": [],
   "source": [
    "writer = SummaryWriter(\"logs\")"
   ]
  },
  {
   "cell_type": "markdown",
   "id": "6e48f649",
   "metadata": {},
   "source": [
    "# 常用函数\n",
    "## add_scalar()\n",
    "\n",
    "tag (str): Data identifier\n",
    "\n",
    "scalar_value (float or string/blobname): Value to save\n",
    "\n",
    "global_step (int): Global step value to record\n",
    "\n",
    "walltime (float): Optional override default walltime (time.time())with seconds after epoch of event\n",
    "\n",
    "new_style (boolean): Whether to use new style (tensor field) or old  style (simple_value field). New style could lead to faster data loading.\n",
    "\n",
    "**简单实现**，在logs文件夹下生成了文件"
   ]
  },
  {
   "cell_type": "code",
   "execution_count": 3,
   "id": "0e57d0d8",
   "metadata": {},
   "outputs": [],
   "source": [
    "for i in range(100):\n",
    "    writer.add_scalar(\"y=x\",i,i)"
   ]
  },
  {
   "cell_type": "code",
   "execution_count": 4,
   "id": "ddaeae5e",
   "metadata": {},
   "outputs": [
    {
     "name": "stdout",
     "output_type": "stream",
     "text": [
      "D:\\Document\\KeepLearning\\Pytorch\\Tensorboard\n"
     ]
    }
   ],
   "source": [
    "print(os.getcwd())"
   ]
  },
  {
   "cell_type": "code",
   "execution_count": null,
   "id": "4534a877",
   "metadata": {},
   "outputs": [],
   "source": [
    "! tensorboard --logdir=logs # 不好使就去终端调用"
   ]
  },
  {
   "cell_type": "code",
   "execution_count": 5,
   "id": "7f872726",
   "metadata": {},
   "outputs": [],
   "source": [
    "for i in range(100):\n",
    "    writer.add_scalar(\"y=2x\",2*i,i)"
   ]
  },
  {
   "cell_type": "code",
   "execution_count": 6,
   "id": "c2c8d0b9",
   "metadata": {},
   "outputs": [],
   "source": [
    "for i in range(100):\n",
    "    writer.add_scalar(\"y=2x\",3*i,i)"
   ]
  },
  {
   "cell_type": "code",
   "execution_count": 7,
   "id": "e8e70299",
   "metadata": {},
   "outputs": [],
   "source": [
    "writer.close() # 关闭"
   ]
  },
  {
   "cell_type": "markdown",
   "id": "401374d2",
   "metadata": {},
   "source": [
    "## add_image()"
   ]
  },
  {
   "cell_type": "code",
   "execution_count": null,
   "id": "7de613ba",
   "metadata": {},
   "outputs": [],
   "source": []
  }
 ],
 "metadata": {
  "kernelspec": {
   "display_name": "Python [conda env:.conda-pytorch] *",
   "language": "python",
   "name": "conda-env-.conda-pytorch-py"
  },
  "language_info": {
   "codemirror_mode": {
    "name": "ipython",
    "version": 3
   },
   "file_extension": ".py",
   "mimetype": "text/x-python",
   "name": "python",
   "nbconvert_exporter": "python",
   "pygments_lexer": "ipython3",
   "version": "3.8.19"
  }
 },
 "nbformat": 4,
 "nbformat_minor": 5
}
